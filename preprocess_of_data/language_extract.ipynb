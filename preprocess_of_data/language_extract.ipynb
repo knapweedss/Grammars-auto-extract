{
 "cells": [
  {
   "cell_type": "code",
   "execution_count": 166,
   "id": "25c72a42",
   "metadata": {},
   "outputs": [],
   "source": [
    "import re\n",
    "import pandas as pd"
   ]
  },
  {
   "cell_type": "code",
   "execution_count": 167,
   "id": "6150203f",
   "metadata": {},
   "outputs": [],
   "source": [
    "with open ('grams.txt') as f:\n",
    "    file = f.readlines()"
   ]
  },
  {
   "cell_type": "code",
   "execution_count": 168,
   "id": "06c0983c",
   "metadata": {},
   "outputs": [
    {
     "data": {
      "text/plain": [
       "1235"
      ]
     },
     "execution_count": 168,
     "metadata": {},
     "output_type": "execute_result"
    }
   ],
   "source": [
    "len(file)"
   ]
  },
  {
   "cell_type": "code",
   "execution_count": 207,
   "id": "b7e4ea64",
   "metadata": {},
   "outputs": [],
   "source": [
    "gramms_with_path = []\n",
    "for line in file:\n",
    "    if re.search('^Language_Stuff/', line):\n",
    "        try:\n",
    "            match = re.search('/(.+)/(.+?)(.+?)[ ]', line).group()\n",
    "            #print(prmatch)\n",
    "            gramms_with_path.append(match.replace(';','').replace(',',''))\n",
    "        except AttributeError:\n",
    "            match = re.search('^Language_Stuff/(.+?)[ ]', line).group()\n",
    "            #print(match)\n",
    "            gramms_with_path.append(match.replace(';','').replace(',',''))"
   ]
  },
  {
   "cell_type": "code",
   "execution_count": 208,
   "id": "933aaf6d",
   "metadata": {},
   "outputs": [
    {
     "data": {
      "text/plain": [
       "1231"
      ]
     },
     "execution_count": 208,
     "metadata": {},
     "output_type": "execute_result"
    }
   ],
   "source": [
    "len(gramms_with_path)  # убрались всякие /n"
   ]
  },
  {
   "cell_type": "code",
   "execution_count": 210,
   "id": "e580f6bc",
   "metadata": {},
   "outputs": [],
   "source": [
    "lang = []\n",
    "for grammar in gramms_with_path:\n",
    "    a = grammar.split('/')\n",
    "    lang.append(a[-1])"
   ]
  },
  {
   "cell_type": "code",
   "execution_count": 211,
   "id": "6e9af916",
   "metadata": {},
   "outputs": [
    {
     "data": {
      "text/plain": [
       "1231"
      ]
     },
     "execution_count": 211,
     "metadata": {},
     "output_type": "execute_result"
    }
   ],
   "source": [
    "len(lang)"
   ]
  },
  {
   "cell_type": "code",
   "execution_count": 212,
   "id": "f31437ea",
   "metadata": {},
   "outputs": [
    {
     "data": {
      "text/html": [
       "<div>\n",
       "<style scoped>\n",
       "    .dataframe tbody tr th:only-of-type {\n",
       "        vertical-align: middle;\n",
       "    }\n",
       "\n",
       "    .dataframe tbody tr th {\n",
       "        vertical-align: top;\n",
       "    }\n",
       "\n",
       "    .dataframe thead th {\n",
       "        text-align: right;\n",
       "    }\n",
       "</style>\n",
       "<table border=\"1\" class=\"dataframe\">\n",
       "  <thead>\n",
       "    <tr style=\"text-align: right;\">\n",
       "      <th></th>\n",
       "      <th>язык</th>\n",
       "    </tr>\n",
       "  </thead>\n",
       "  <tbody>\n",
       "    <tr>\n",
       "      <th>0</th>\n",
       "      <td>Nivkh</td>\n",
       "    </tr>\n",
       "    <tr>\n",
       "      <th>1</th>\n",
       "      <td>Nivkh</td>\n",
       "    </tr>\n",
       "    <tr>\n",
       "      <th>2</th>\n",
       "      <td>Yukaghir</td>\n",
       "    </tr>\n",
       "    <tr>\n",
       "      <th>3</th>\n",
       "      <td>Yukaghir</td>\n",
       "    </tr>\n",
       "    <tr>\n",
       "      <th>4</th>\n",
       "      <td>Yukaghir</td>\n",
       "    </tr>\n",
       "  </tbody>\n",
       "</table>\n",
       "</div>"
      ],
      "text/plain": [
       "        язык\n",
       "0     Nivkh \n",
       "1     Nivkh \n",
       "2  Yukaghir \n",
       "3  Yukaghir \n",
       "4  Yukaghir "
      ]
     },
     "execution_count": 212,
     "metadata": {},
     "output_type": "execute_result"
    }
   ],
   "source": [
    "df = pd.DataFrame({\n",
    "    'язык' : lang\n",
    "})\n",
    "df.head(5)"
   ]
  },
  {
   "cell_type": "code",
   "execution_count": 213,
   "id": "733aff5d",
   "metadata": {},
   "outputs": [],
   "source": [
    "df.to_csv('langs.csv', index=False, encoding='UTF-8')"
   ]
  }
 ],
 "metadata": {
  "kernelspec": {
   "display_name": "Python 3 (ipykernel)",
   "language": "python",
   "name": "python3"
  },
  "language_info": {
   "codemirror_mode": {
    "name": "ipython",
    "version": 3
   },
   "file_extension": ".py",
   "mimetype": "text/x-python",
   "name": "python",
   "nbconvert_exporter": "python",
   "pygments_lexer": "ipython3",
   "version": "3.7.1"
  }
 },
 "nbformat": 4,
 "nbformat_minor": 5
}
