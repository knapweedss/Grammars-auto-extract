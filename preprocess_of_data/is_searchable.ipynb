{
 "cells": [
  {
   "cell_type": "code",
   "execution_count": 11,
   "id": "a505c5f1",
   "metadata": {},
   "outputs": [],
   "source": [
    "import pdftotext\n",
    "import pandas as pd\n",
    "import os"
   ]
  },
  {
   "cell_type": "markdown",
   "id": "03ffda92",
   "metadata": {},
   "source": [
    "Идея в том, что нет необработанной грамматики, где количество страниц с обработанным текстом (будт то гугл предисловие / подписи / еще что) вдвое превышало бы количество страниц с картинками (те без текста)"
   ]
  },
  {
   "cell_type": "code",
   "execution_count": 12,
   "id": "b6bada70",
   "metadata": {},
   "outputs": [],
   "source": [
    "def search_check(filename):\n",
    "    \n",
    "    with open(filename, \"rb\") as f:\n",
    "        pdf = pdftotext.PDF(f)\n",
    "        total_pages = len(pdf) # количество страниц\n",
    "        empty_pages = 0 # количество пустых страниц \n",
    "        \n",
    "        for page in pdf:\n",
    "            if page == '\\x0c' or page.startswith('Reproduced with permission of the copyright owner'):\n",
    "                empty_pages += 1\n",
    "        if empty_pages > round(total_pages/2):\n",
    "            return'Not searchable'\n",
    "        else:\n",
    "            return'Searchable'"
   ]
  },
  {
   "cell_type": "markdown",
   "id": "15276d48",
   "metadata": {},
   "source": [
    "#### Найдем полный путь до файлов"
   ]
  },
  {
   "cell_type": "code",
   "execution_count": 13,
   "id": "ac41f85d",
   "metadata": {},
   "outputs": [],
   "source": [
    "directs = []  # полные пути к каждой pdf\n",
    "for dir, subdir, files in os.walk(\"../Desktop/Language_Stuff/\"):\n",
    "    for file in files:\n",
    "        if file.endswith('pdf'):\n",
    "            directs.append(os.path.join(dir, file))"
   ]
  },
  {
   "cell_type": "markdown",
   "id": "84756387",
   "metadata": {},
   "source": [
    "#### Проверка на искабельность каждой из pdf"
   ]
  },
  {
   "cell_type": "code",
   "execution_count": 14,
   "id": "06750b41",
   "metadata": {},
   "outputs": [],
   "source": [
    "ser = []  # есть поиск по тексту или нет \n",
    "for d in directs:\n",
    "    ser.append(search_check(d))"
   ]
  },
  {
   "cell_type": "markdown",
   "id": "8c4894de",
   "metadata": {},
   "source": [
    "#### создадим датафрейм"
   ]
  },
  {
   "cell_type": "code",
   "execution_count": 15,
   "id": "daa141d4",
   "metadata": {},
   "outputs": [
    {
     "data": {
      "text/html": [
       "<div>\n",
       "<style scoped>\n",
       "    .dataframe tbody tr th:only-of-type {\n",
       "        vertical-align: middle;\n",
       "    }\n",
       "\n",
       "    .dataframe tbody tr th {\n",
       "        vertical-align: top;\n",
       "    }\n",
       "\n",
       "    .dataframe thead th {\n",
       "        text-align: right;\n",
       "    }\n",
       "</style>\n",
       "<table border=\"1\" class=\"dataframe\">\n",
       "  <thead>\n",
       "    <tr style=\"text-align: right;\">\n",
       "      <th></th>\n",
       "      <th>полный путь</th>\n",
       "      <th>поиск по тексту</th>\n",
       "    </tr>\n",
       "  </thead>\n",
       "  <tbody>\n",
       "    <tr>\n",
       "      <th>0</th>\n",
       "      <td>../Desktop/Language_Stuff/African/Khoisan/Juǀ'...</td>\n",
       "      <td>Searchable</td>\n",
       "    </tr>\n",
       "    <tr>\n",
       "      <th>1</th>\n",
       "      <td>../Desktop/Language_Stuff/African/Khoisan/ǀXam...</td>\n",
       "      <td>Not searchable</td>\n",
       "    </tr>\n",
       "    <tr>\n",
       "      <th>2</th>\n",
       "      <td>../Desktop/Language_Stuff/African/Khoisan/!Xó...</td>\n",
       "      <td>Not searchable</td>\n",
       "    </tr>\n",
       "    <tr>\n",
       "      <th>3</th>\n",
       "      <td>../Desktop/Language_Stuff/African/Khoisan/Khoe...</td>\n",
       "      <td>Not searchable</td>\n",
       "    </tr>\n",
       "    <tr>\n",
       "      <th>4</th>\n",
       "      <td>../Desktop/Language_Stuff/African/Khoisan/Hadz...</td>\n",
       "      <td>Not searchable</td>\n",
       "    </tr>\n",
       "  </tbody>\n",
       "</table>\n",
       "</div>"
      ],
      "text/plain": [
       "                                         полный путь поиск по тексту\n",
       "0  ../Desktop/Language_Stuff/African/Khoisan/Juǀ'...      Searchable\n",
       "1  ../Desktop/Language_Stuff/African/Khoisan/ǀXam...  Not searchable\n",
       "2  ../Desktop/Language_Stuff/African/Khoisan/!Xó...  Not searchable\n",
       "3  ../Desktop/Language_Stuff/African/Khoisan/Khoe...  Not searchable\n",
       "4  ../Desktop/Language_Stuff/African/Khoisan/Hadz...  Not searchable"
      ]
     },
     "execution_count": 15,
     "metadata": {},
     "output_type": "execute_result"
    }
   ],
   "source": [
    "df = pd.DataFrame({\n",
    "    'полный путь' : directs,\n",
    "    'поиск по тексту' : ser\n",
    "                  })\n",
    "df.head(5)"
   ]
  },
  {
   "cell_type": "code",
   "execution_count": 16,
   "id": "d69a79c8",
   "metadata": {},
   "outputs": [],
   "source": [
    "import gspread\n",
    "from gspread_dataframe import set_with_dataframe\n",
    "\n",
    "# доступ к гугл-таблице\n",
    "gc = gspread.service_account(filename='daring-agent-275412-2813966469f0.json')\n",
    "sh = gc.open_by_key('1rKv6YwVua0GqiCpLyq1-wy71mcSir5ePGuBatYG6hWA')\n",
    "worksheet = sh.get_worksheet(0) #-> 0 - первый лист, 1 - второй лист и т.д. \n",
    "\n",
    "your_dataframe = pd.DataFrame()\n",
    "set_with_dataframe(worksheet, df) # экспорт"
   ]
  },
  {
   "cell_type": "markdown",
   "id": "9af9cad8",
   "metadata": {},
   "source": [
    "https://docs.google.com/spreadsheets/d/1rKv6YwVua0GqiCpLyq1-wy71mcSir5ePGuBatYG6hWA/edit#gid=0"
   ]
  }
 ],
 "metadata": {
  "kernelspec": {
   "display_name": "Python 3 (ipykernel)",
   "language": "python",
   "name": "python3"
  },
  "language_info": {
   "codemirror_mode": {
    "name": "ipython",
    "version": 3
   },
   "file_extension": ".py",
   "mimetype": "text/x-python",
   "name": "python",
   "nbconvert_exporter": "python",
   "pygments_lexer": "ipython3",
   "version": "3.7.1"
  }
 },
 "nbformat": 4,
 "nbformat_minor": 5
}
